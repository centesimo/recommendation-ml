{
 "cells": [
  {
   "cell_type": "code",
   "execution_count": 10,
   "id": "convinced-communications",
   "metadata": {},
   "outputs": [
    {
     "name": "stdout",
     "output_type": "stream",
     "text": [
      "Requirement already satisfied: pandas in ./lib/python3.8/site-packages (1.2.3)\r\n",
      "Requirement already satisfied: pytz>=2017.3 in ./lib/python3.8/site-packages (from pandas) (2021.1)\r\n",
      "Requirement already satisfied: numpy>=1.16.5 in ./lib/python3.8/site-packages (from pandas) (1.20.1)\r\n",
      "Requirement already satisfied: python-dateutil>=2.7.3 in ./lib/python3.8/site-packages (from pandas) (2.8.1)\r\n",
      "Requirement already satisfied: six>=1.5 in ./lib/python3.8/site-packages (from python-dateutil>=2.7.3->pandas) (1.15.0)\r\n"
     ]
    }
   ],
   "source": [
    "!pip install pandas\n",
    "\n",
    "import pandas as pd\n",
    "import numpy as np\n"
   ]
  },
  {
   "cell_type": "code",
   "execution_count": 13,
   "id": "under-aurora",
   "metadata": {},
   "outputs": [],
   "source": [
    "tabela = pd.read_csv('/home/eduardo/Downloads/000HelpRecommendationCR_2021_02.csv')\n",
    "tabela = tabela[['id_procedimento', 'produto_id']]\n",
    "tabela['count'] = int(1)\n",
    "pd.pivot_table(tabela, values = 'count', index='produto_id', columns=['id_procedimento'], aggfunc=np.sum).fillna(0).to_csv('watson_cr_022021.csv')\n",
    "\n",
    "\n"
   ]
  }
 ],
 "metadata": {
  "kernelspec": {
   "display_name": "Python 3",
   "language": "python",
   "name": "python3"
  },
  "language_info": {
   "codemirror_mode": {
    "name": "ipython",
    "version": 3
   },
   "file_extension": ".py",
   "mimetype": "text/x-python",
   "name": "python",
   "nbconvert_exporter": "python",
   "pygments_lexer": "ipython3",
   "version": "3.8.5"
  }
 },
 "nbformat": 4,
 "nbformat_minor": 5
}
